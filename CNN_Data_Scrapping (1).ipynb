{
  "cells": [
    {
      "cell_type": "code",
      "execution_count": null,
      "metadata": {
        "id": "VbvBpf_g1-5A"
      },
      "outputs": [],
      "source": [
        "import requests\n",
        "from bs4 import BeautifulSoup\n",
        "import csv"
      ]
    },
    {
      "cell_type": "code",
      "execution_count": null,
      "metadata": {
        "colab": {
          "base_uri": "https://localhost:8080/"
        },
        "id": "3E9rmbJi2QGv",
        "outputId": "24ab0246-a61b-4f9d-c89c-e7c84e60c9ce"
      },
      "outputs": [],
      "source": [
        "URL = 'https://edition.cnn.com/business/tech'\n",
        "r = requests.get(URL)\n",
        "print(r)\n",
        "print(r.content)"
      ]
    },
    {
      "cell_type": "code",
      "execution_count": null,
      "metadata": {
        "id": "AXSPrFzT2xsa"
      },
      "outputs": [],
      "source": [
        "soup = BeautifulSoup(r.content, 'html5lib')\n",
        "soup.prettify()"
      ]
    },
    {
      "cell_type": "code",
      "execution_count": null,
      "metadata": {
        "id": "f9zUVTz5F6FN"
      },
      "outputs": [],
      "source": [
        "table = soup.find_all('div', attrs = {\"container__headline container_lead-plus-headlines-with-images__headline\"})\n",
        "print(type(table))\n"
      ]
    },
    {
      "cell_type": "code",
      "execution_count": null,
      "metadata": {
        "id": "7sxojkgl39Tz"
      },
      "outputs": [],
      "source": [
        "for headline in table:\n",
        "  print(headline)"
      ]
    },
    {
      "cell_type": "code",
      "execution_count": null,
      "metadata": {
        "id": "Dnax-mRxGPOG"
      },
      "outputs": [],
      "source": [
        "for headline in table:\n",
        "  print(headline.text)"
      ]
    },
    {
      "cell_type": "code",
      "execution_count": null,
      "metadata": {
        "colab": {
          "base_uri": "https://localhost:8080/"
        },
        "id": "wpk1GTVaHSWM",
        "outputId": "e6c8de2c-f5ea-4058-f6ce-f624557b27aa"
      },
      "outputs": [],
      "source": [
        "headlines = []\n",
        "for headline in table:\n",
        "  headlines.append(headline.text)\n",
        "print(type(headlines))"
      ]
    },
    {
      "cell_type": "code",
      "execution_count": null,
      "metadata": {
        "colab": {
          "base_uri": "https://localhost:8080/"
        },
        "id": "DlRLOFFQNh2x",
        "outputId": "d6cf54f7-751b-4c27-eed2-6a2b7ec89f87"
      },
      "outputs": [],
      "source": [
        "print(len(headlines))"
      ]
    },
    {
      "cell_type": "code",
      "execution_count": null,
      "metadata": {
        "id": "i-HbPTEONli9"
      },
      "outputs": [],
      "source": [
        "for headline in headlines:\n",
        "  print(headline.strip())"
      ]
    },
    {
      "cell_type": "code",
      "execution_count": null,
      "metadata": {
        "id": "1XdoAZyqOZza"
      },
      "outputs": [],
      "source": [
        "with open('headlines.csv', 'w', newline = '') as f:\n",
        "    writer = csv.writer(f)\n",
        "    for headline in headlines:\n",
        "      writer.writerow([headline.strip()])"
      ]
    }
  ],
  "metadata": {
    "colab": {
      "provenance": []
    },
    "kernelspec": {
      "display_name": "Python 3",
      "name": "python3"
    },
    "language_info": {
      "name": "python"
    }
  },
  "nbformat": 4,
  "nbformat_minor": 0
}
